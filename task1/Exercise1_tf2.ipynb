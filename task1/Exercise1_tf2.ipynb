{
 "cells": [
  {
   "cell_type": "markdown",
   "metadata": {},
   "source": [
    "# Exercise1 MINIST TRAINING OPTIMIZATION"
   ]
  },
  {
   "cell_type": "markdown",
   "metadata": {},
   "source": [
    "* step1 加载必要的库函数"
   ]
  },
  {
   "cell_type": "code",
   "execution_count": 48,
   "metadata": {},
   "outputs": [],
   "source": [
    "import tensorflow as tf\n",
    "import tensorflow.keras as keras\n",
    "import numpy as np\n",
    "from tensorflow.keras.datasets import mnist\n",
    "from tensorflow.keras.utils import to_categorical\n",
    "from tensorflow.keras.models import Sequential\n",
    "from tensorflow.keras.layers import Dense, Activation,Conv2D,Input,Dropout\n",
    "from tensorflow.keras.models import Model\n",
    "from tensorflow.keras.optimizers import RMSprop,Adam\n",
    "from tensorflow.keras.callbacks import Callback\n",
    "from historycal_tf2 import LossHistory\n",
    "from matplotlib import pyplot as plt\n",
    "#"
   ]
  },
  {
   "cell_type": "markdown",
   "metadata": {},
   "source": [
    "* step2 minist数据在keras中自带，可以通过网络加载"
   ]
  },
  {
   "cell_type": "code",
   "execution_count": 4,
   "metadata": {},
   "outputs": [
    {
     "name": "stdout",
     "output_type": "stream",
     "text": [
      "Downloading data from https://storage.googleapis.com/tensorflow/tf-keras-datasets/mnist.npz\n",
      "11493376/11490434 [==============================] - 4s 0us/step\n",
      "(60000, 28, 28)\n"
     ]
    }
   ],
   "source": [
    "(X_train, y_train), (X_test, y_test) = mnist.load_data()\n",
    "print(X_train.shape)"
   ]
  },
  {
   "cell_type": "code",
   "execution_count": 5,
   "metadata": {},
   "outputs": [
    {
     "name": "stdout",
     "output_type": "stream",
     "text": [
      "(60000, 28, 28) (10000, 28, 28)\n"
     ]
    },
    {
     "data": {
      "text/plain": [
       "<matplotlib.image.AxesImage at 0x253b5298e10>"
      ]
     },
     "execution_count": 5,
     "metadata": {},
     "output_type": "execute_result"
    },
    {
     "data": {
      "image/png": "[encoded data removed]",
      "text/plain": [
       "<Figure size 432x288 with 1 Axes>"
      ]
     },
     "metadata": {
      "needs_background": "light"
     },
     "output_type": "display_data"
    }
   ],
   "source": [
    "#confirm the data dimention\n",
    "print(X_train.shape,X_test.shape) \n",
    "plt.imshow(X_train[0,:,:],cmap='gray')"
   ]
  },
  {
   "cell_type": "markdown",
   "metadata": {},
   "source": [
    "* step3 标准化处理"
   ]
  },
  {
   "cell_type": "code",
   "execution_count": 6,
   "metadata": {
    "collapsed": true
   },
   "outputs": [
    {
     "name": "stdout",
     "output_type": "stream",
     "text": [
      "(60000, 784)\n"
     ]
    }
   ],
   "source": [
    "# data pre-processing\n",
    "X_train = X_train.reshape(X_train.shape[0], -1) / 255.   # normalize\n",
    "X_test = X_test.reshape(X_test.shape[0], -1) / 255.      # normalize\n",
    "\n",
    "y_train = to_categorical(y_train, num_classes=10)\n",
    "y_test = to_categorical(y_test, num_classes=10)\n",
    "print(X_train.shape)"
   ]
  },
  {
   "cell_type": "markdown",
   "metadata": {},
   "source": [
    "* step4 构建CNN网络"
   ]
  },
  {
   "cell_type": "code",
   "execution_count": 7,
   "metadata": {
    "collapsed": true
   },
   "outputs": [
    {
     "name": "stdout",
     "output_type": "stream",
     "text": [
      "Model: \"sequential\"\n",
      "_________________________________________________________________\n",
      "Layer (type)                 Output Shape              Param #   \n",
      "=================================================================\n",
      "dense (Dense)                (None, 128)               100480    \n",
      "_________________________________________________________________\n",
      "dense_1 (Dense)              (None, 64)                8256      \n",
      "_________________________________________________________________\n",
      "activation (Activation)      (None, 64)                0         \n",
      "_________________________________________________________________\n",
      "dense_2 (Dense)              (None, 32)                2080      \n",
      "_________________________________________________________________\n",
      "activation_1 (Activation)    (None, 32)                0         \n",
      "_________________________________________________________________\n",
      "dense_3 (Dense)              (None, 10)                330       \n",
      "_________________________________________________________________\n",
      "activation_2 (Activation)    (None, 10)                0         \n",
      "_________________________________________________________________\n",
      "dropout (Dropout)            (None, 10)                0         \n",
      "=================================================================\n",
      "Total params: 111,146\n",
      "Trainable params: 111,146\n",
      "Non-trainable params: 0\n",
      "_________________________________________________________________\n"
     ]
    }
   ],
   "source": [
    "# model-sequential\n",
    "model = Sequential([\n",
    "    Dense(128, input_dim=784),\n",
    "    Dense(64, input_dim=128),\n",
    "    Activation('relu'),\n",
    "    Dense(32, input_dim=64),\n",
    "    Activation('relu'),\n",
    "    Dense(10),\n",
    "    Activation('softmax'),\n",
    "    Dropout(0.2)\n",
    "])\n",
    "model.summary()"
   ]
  },
  {
   "cell_type": "markdown",
   "metadata": {},
   "source": [
    "* setp5 训练模型"
   ]
  },
  {
   "cell_type": "code",
   "execution_count": 70,
   "metadata": {
    "collapsed": true
   },
   "outputs": [],
   "source": [
    "# Another way to define your optimizer\n",
    "# rmsprop = RMSprop(lr=0.0001, rho=0.9, epsilon=1e-08, decay=0.0)\n",
    "loss=Adam()\n",
    "# We add metrics to get more results you want to see\n",
    "model.compile(optimizer=loss,loss='categorical_crossentropy',metrics=['accuracy'])"
   ]
  },
  {
   "cell_type": "code",
   "execution_count": 71,
   "metadata": {},
   "outputs": [
    {
     "name": "stdout",
     "output_type": "stream",
     "text": [
      "Training ------------\n",
      "Epoch 1/10\n",
      "469/469 [==============================] - 1s 3ms/step - loss: 3.2250 - accuracy: 0.7940 - val_loss: 0.1310 - val_accuracy: 0.9692\n",
      "Epoch 2/10\n",
      "469/469 [==============================] - 1s 3ms/step - loss: 3.2415 - accuracy: 0.7924 - val_loss: 0.1232 - val_accuracy: 0.9725\n",
      "Epoch 3/10\n",
      "469/469 [==============================] - 1s 3ms/step - loss: 3.2329 - accuracy: 0.7944 - val_loss: 0.1205 - val_accuracy: 0.9741\n",
      "Epoch 4/10\n",
      "469/469 [==============================] - 1s 3ms/step - loss: 3.2592 - accuracy: 0.7933 - val_loss: 0.1303 - val_accuracy: 0.9709\n",
      "Epoch 5/10\n",
      "469/469 [==============================] - 1s 3ms/step - loss: 3.2273 - accuracy: 0.7947 - val_loss: 0.1275 - val_accuracy: 0.9745\n",
      "Epoch 6/10\n",
      "469/469 [==============================] - 1s 3ms/step - loss: 3.2699 - accuracy: 0.7922 - val_loss: 0.1457 - val_accuracy: 0.9696\n",
      "Epoch 7/10\n",
      "469/469 [==============================] - 1s 3ms/step - loss: 3.2211 - accuracy: 0.7954 - val_loss: 0.1242 - val_accuracy: 0.9742\n",
      "Epoch 8/10\n",
      "469/469 [==============================] - 1s 3ms/step - loss: 3.2608 - accuracy: 0.7938 - val_loss: 0.1313 - val_accuracy: 0.9710\n",
      "Epoch 9/10\n",
      "469/469 [==============================] - 1s 3ms/step - loss: 3.2236 - accuracy: 0.7950 - val_loss: 0.1374 - val_accuracy: 0.9716\n",
      "Epoch 10/10\n",
      "469/469 [==============================] - 1s 3ms/step - loss: 3.2331 - accuracy: 0.7949 - val_loss: 0.1450 - val_accuracy: 0.9703\n"
     ]
    }
   ],
   "source": [
    "print('Training ------------')\n",
    "# Another way to train the model\n",
    "histories=LossHistory_tf2()\n",
    "history =model.fit(X_train, y_train, epochs=10, verbose=1, shuffle=True,batch_size=128,validation_data=(X_test,y_test),callbacks=histories)"
   ]
  },
  {
   "cell_type": "code",
   "execution_count": 72,
   "metadata": {},
   "outputs": [
    {
     "data": {
      "image/png": "[encoded data removed]",
      "text/plain": [
       "<Figure size 720x432 with 1 Axes>"
      ]
     },
     "metadata": {},
     "output_type": "display_data"
    },
    {
     "data": {
      "image/png": "[encoded data removed]",
      "text/plain": [
       "<Figure size 720x432 with 1 Axes>"
      ]
     },
     "metadata": {},
     "output_type": "display_data"
    }
   ],
   "source": [
    "histories.loss_plot('epoch','./')\n",
    "histories.loss_plot('batch','./')\n",
    "histories.h5_save('./history.hdf5')"
   ]
  },
  {
   "cell_type": "code",
   "execution_count": 74,
   "metadata": {},
   "outputs": [
    {
     "name": "stdout",
     "output_type": "stream",
     "text": [
      "(100, 10)\n",
      "[[  0.   0.   0.   0.   0.   0.   0. 100.   0.   0.]] 7\n"
     ]
    },
    {
     "data": {
      "image/png": "[encoded data removed]",
      "text/plain": [
       "<Figure size 432x288 with 1 Axes>"
      ]
     },
     "metadata": {},
     "output_type": "display_data"
    }
   ],
   "source": [
    "# test the model \n",
    "testdata=X_test[:100]\n",
    "# get the probability value\n",
    "pred=model.predict(testdata,batch_size=20)\n",
    "# get the classification value\n",
    "pred_c=np.argmax(pred,axis=1)\n",
    "# pred_c=model.predict_classes(testdata,batch_size=20)\n",
    "print(pred.shape)\n",
    "reshapedata=testdata.reshape(100,28,28)\n",
    "plt.imshow(reshapedata[0,:,:])\n",
    "print(np.round(pred[:1]*100),pred_c[0])"
   ]
  },
  {
   "cell_type": "markdown",
   "metadata": {
    "collapsed": true
   },
   "source": [
    "* setp5保存模型"
   ]
  },
  {
   "cell_type": "code",
   "execution_count": 107,
   "metadata": {},
   "outputs": [],
   "source": [
    "model.save('./mnist.h5')"
   ]
  },
  {
   "cell_type": "markdown",
   "metadata": {},
   "source": []
  }
 ],
 "metadata": {
  "interpreter": {
   "hash": "645ecf39b749c568d5d4006fbeacede757e77bc36f68b1a673586522d8c82137"
  },
  "kernelspec": {
   "display_name": "Python 3.6.13 ('tf2')",
   "language": "python",
   "name": "python3"
  },
  "language_info": {
   "codemirror_mode": {
    "name": "ipython",
    "version": 3
   },
   "file_extension": ".py",
   "mimetype": "text/x-python",
   "name": "python",
   "nbconvert_exporter": "python",
   "pygments_lexer": "ipython3",
   "version": "3.6.13"
  }
 },
 "nbformat": 4,
 "nbformat_minor": 2
}
