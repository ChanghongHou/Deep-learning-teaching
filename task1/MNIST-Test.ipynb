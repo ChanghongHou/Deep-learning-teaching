{
 "cells": [
  {
   "cell_type": "markdown",
   "metadata": {},
   "source": [
    "# Task1 MINIST TRAINING AND TEST ——PART2"
   ]
  },
  {
   "cell_type": "markdown",
   "metadata": {},
   "source": [
    "### 本任务的目的是通过minist手写数据集的训练实现对现实手写数字的识别。\n",
    "1. 用两种方式构建CNN网络\n",
    "2. 熟悉数据处理到模型构建-训练-预测-保存整个过程"
   ]
  },
  {
   "cell_type": "markdown",
   "metadata": {},
   "source": [
    "* step1 加载必要的库函数"
   ]
  },
  {
   "cell_type": "code",
   "execution_count": 2,
   "metadata": {
    "collapsed": true
   },
   "outputs": [],
   "source": [
    "# import numpy as np\n",
    "# import glob\n",
    "# from keras.datasets import mnist\n",
    "# from keras.utils import np_utils\n",
    "# from keras.models import Sequential\n",
    "# from keras.layers import Dense, Activation, Convolution2D, MaxPooling2D, Flatten\n",
    "# from keras.optimizers import Adam\n",
    "# import cv2\n",
    "# from PIL import Image, ImageFilter\n",
    "# from keras.models import load_model\n",
    "# import tensorflow as tf\n",
    "# import matplotlib.pyplot as plt\n",
    "# import os\n",
    "# for tf2.0\n",
    "import numpy as np\n",
    "import glob\n",
    "import tensorflow as tf\n",
    "from tensorflow.keras.datasets import mnist\n",
    "from tensorflow.keras.models import Sequential\n",
    "from tensorflow.keras.layers import Dense, Activation, Convolution2D, MaxPooling2D, Flatten\n",
    "from tensorflow.keras.optimizers import Adam\n",
    "import cv2\n",
    "from PIL import Image, ImageFilter\n",
    "from tensorflow.keras.models import load_model\n",
    "import matplotlib.pyplot as plt\n",
    "import os"
   ]
  },
  {
   "cell_type": "markdown",
   "metadata": {},
   "source": [
    "* step2定义处理函数"
   ]
  },
  {
   "cell_type": "code",
   "execution_count": 4,
   "metadata": {
    "collapsed": true
   },
   "outputs": [],
   "source": [
    "#  convert 3-band array to 1-band array\n",
    "def imageprepare(filelist):\n",
    "    newlist=[]\n",
    "    for file in (filelist):\n",
    "        # [dirname,filename]=os.path.split(file)\n",
    "        # portion = os.path.splitext(filename)#分离文件名字和后缀        \n",
    "        im = Image.open(file).convert('L')\n",
    "        tv = np.array(im.getdata()) #get pixel values\n",
    "        newlist.append(tv)\n",
    "    newlist=np.array(newlist,dtype='float32')\n",
    "    return 255-newlist #black num change to white num\n",
    "# plot function\n",
    "def plot_func(data,n):\n",
    "    fig=plt.figure(figsize=(25,5))\n",
    "    for i in range(n):\n",
    "        plt.subplot(1,n,i+1)\n",
    "        plt.imshow(Image.fromarray(np.uint8((data[i,:,:]))),cmap='gray')\n",
    "    plt.show()"
   ]
  },
  {
   "cell_type": "markdown",
   "metadata": {},
   "source": [
    "* step3 prepare data"
   ]
  },
  {
   "cell_type": "code",
   "execution_count": 5,
   "metadata": {},
   "outputs": [
    {
     "name": "stdout",
     "output_type": "stream",
     "text": [
      "5\n"
     ]
    },
    {
     "data": {
      "image/png": "[encoded data removed]",
      "text/plain": [
       "<Figure size 1800x360 with 5 Axes>"
      ]
     },
     "metadata": {
      "needs_background": "light"
     },
     "output_type": "display_data"
    }
   ],
   "source": [
    "filelist=glob.glob(\"./data/*.jpg\")\n",
    "print(len(filelist))\n",
    "data=imageprepare(filelist)\n",
    "plot_func(data.reshape(5,28,28),data.shape[0])"
   ]
  },
  {
   "cell_type": "markdown",
   "metadata": {},
   "source": [
    "* step4 load and predict"
   ]
  },
  {
   "cell_type": "code",
   "execution_count": 6,
   "metadata": {},
   "outputs": [
    {
     "name": "stderr",
     "output_type": "stream",
     "text": [
      "D:\\Anaconda3\\envs\\tf20\\lib\\site-packages\\tensorflow\\python\\keras\\engine\\sequential.py:450: UserWarning: `model.predict_classes()` is deprecated and will be removed after 2021-01-01. Please use instead:* `np.argmax(model.predict(x), axis=-1)`,   if your model does multi-class classification   (e.g. if it uses a `softmax` last-layer activation).* `(model.predict(x) > 0.5).astype(\"int32\")`,   if your model does binary classification   (e.g. if it uses a `sigmoid` last-layer activation).\n",
      "  warnings.warn('`model.predict_classes()` is deprecated and '\n"
     ]
    },
    {
     "data": {
      "text/plain": [
       "array([6, 2, 3, 5, 2], dtype=int64)"
      ]
     },
     "execution_count": 6,
     "metadata": {},
     "output_type": "execute_result"
    }
   ],
   "source": [
    "model=load_model('./mnist.h5')\n",
    "model.predict_classes(data/255.0)"
   ]
  },
  {
   "cell_type": "code",
   "execution_count": null,
   "metadata": {
    "collapsed": true
   },
   "outputs": [],
   "source": []
  }
 ],
 "metadata": {
  "interpreter": {
   "hash": "3c45b8f5764b75af34c480c35f74e37edf16043dd9b7c6c4c99dd4f6b3305323"
  },
  "kernelspec": {
   "display_name": "Python 3.7.11 64-bit ('tf20': conda)",
   "name": "python3"
  },
  "language_info": {
   "codemirror_mode": {
    "name": "ipython",
    "version": 3
   },
   "file_extension": ".py",
   "mimetype": "text/x-python",
   "name": "python",
   "nbconvert_exporter": "python",
   "pygments_lexer": "ipython3",
   "version": "3.7.11"
  }
 },
 "nbformat": 4,
 "nbformat_minor": 2
}
